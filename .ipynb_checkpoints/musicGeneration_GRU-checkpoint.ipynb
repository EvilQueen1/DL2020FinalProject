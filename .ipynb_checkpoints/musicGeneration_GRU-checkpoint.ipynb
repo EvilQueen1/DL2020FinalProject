{
 "cells": [
  {
   "cell_type": "markdown",
   "metadata": {
    "colab_type": "text",
    "id": "aMFuBcGQhl0P"
   },
   "source": [
    "### **Dependencies**"
   ]
  },
  {
   "cell_type": "code",
   "execution_count": 0,
   "metadata": {
    "colab": {
     "base_uri": "https://localhost:8080/",
     "height": 122
    },
    "colab_type": "code",
    "executionInfo": {
     "elapsed": 49764,
     "status": "ok",
     "timestamp": 1592204379806,
     "user": {
      "displayName": "EvilQueen Games",
      "photoUrl": "https://lh3.googleusercontent.com/a-/AOh14GgVz3zlFCzq7fKQkr0nDbM4UebhBLmPT4JBgB-rRA=s64",
      "userId": "18226975890731264558"
     },
     "user_tz": -120
    },
    "id": "2Or6Dvo7e2yE",
    "outputId": "17e591de-3097-4580-e32f-f5b84b9346d7"
   },
   "outputs": [
    {
     "name": "stdout",
     "output_type": "stream",
     "text": [
      "Go to this URL in a browser: https://accounts.google.com/o/oauth2/auth?client_id=947318989803-6bn6qk8qdgf4n4g3pfee6491hc0brc4i.apps.googleusercontent.com&redirect_uri=urn%3aietf%3awg%3aoauth%3a2.0%3aoob&response_type=code&scope=email%20https%3a%2f%2fwww.googleapis.com%2fauth%2fdocs.test%20https%3a%2f%2fwww.googleapis.com%2fauth%2fdrive%20https%3a%2f%2fwww.googleapis.com%2fauth%2fdrive.photos.readonly%20https%3a%2f%2fwww.googleapis.com%2fauth%2fpeopleapi.readonly\n",
      "\n",
      "Enter your authorization code:\n",
      "··········\n",
      "Mounted at /content/drive\n"
     ]
    }
   ],
   "source": [
    "%matplotlib inline\n",
    "import os\n",
    "import sys\n",
    "import random\n",
    "sys.path.append('../midi')\n",
    "\n",
    "import torch\n",
    "import torch.nn as nn\n",
    "from torch.autograd import Variable\n",
    "import torch.utils.data as data\n",
    "\n",
    "from google.colab import drive\n",
    "drive.mount('/content/drive')\n",
    "\n",
    "myDrive = 'drive/My Drive/DL2020FinalProject/'\n",
    "\n",
    "!cp \"drive/My Drive/DL2020FinalProject/midi/midi_utils.py\" .\n",
    "!cp \"drive/My Drive/DL2020FinalProject/midi/MidiOutFile.py\" .\n",
    "!cp \"drive/My Drive/DL2020FinalProject/midi/MidiOutStream.py\" .\n",
    "!cp \"drive/My Drive/DL2020FinalProject/midi/RawOutstreamFile.py\" .\n",
    "!cp \"drive/My Drive/DL2020FinalProject/midi/DataTypeConverters.py\" .\n",
    "!cp \"drive/My Drive/DL2020FinalProject/midi/constants.py\" .\n",
    "!cp \"drive/My Drive/DL2020FinalProject/midi/MidiInFile.py\" .\n",
    "!cp \"drive/My Drive/DL2020FinalProject/midi/RawInstreamFile.py\" .\n",
    "!cp \"drive/My Drive/DL2020FinalProject/midi/MidiFileParser.py\" .\n",
    "!cp \"drive/My Drive/DL2020FinalProject/midi/EventDispatcher.py\" .\n",
    "\n",
    "from midi_utils import midiread, midiwrite\n",
    "from matplotlib import pyplot as plt\n",
    "import skimage.io as io\n",
    "from IPython.display import FileLink\n",
    "os.environ[\"CUDA_VISIBLE_DEVICES\"] = '0'\n",
    "\n",
    "import numpy as np\n",
    "import torch\n",
    "import torch.utils.data as data"
   ]
  },
  {
   "cell_type": "markdown",
   "metadata": {
    "colab_type": "text",
    "id": "MyPLBaULhcC2"
   },
   "source": [
    "### Data Loader"
   ]
  },
  {
   "cell_type": "code",
   "execution_count": 0,
   "metadata": {
    "colab": {},
    "colab_type": "code",
    "id": "I6Snt12PhbPH"
   },
   "outputs": [],
   "source": [
    "def midi_filename_to_piano_roll(midi_filename):\n",
    "    \n",
    "    midi_data = midiread(midi_filename, dt=0.3)\n",
    "    \n",
    "    piano_roll = midi_data.piano_roll.transpose()\n",
    "    \n",
    "    # Pressed notes are replaced by 1\n",
    "    piano_roll[piano_roll > 0] = 1\n",
    "    \n",
    "    return piano_roll\n",
    "\n",
    "\n",
    "def pad_piano_roll(piano_roll, max_length=132333, pad_value=0):\n",
    "        \n",
    "    original_piano_roll_length = piano_roll.shape[1]\n",
    "    \n",
    "    padded_piano_roll = np.zeros((88, max_length))\n",
    "    padded_piano_roll[:] = pad_value\n",
    "    \n",
    "    padded_piano_roll[:, -original_piano_roll_length:] = piano_roll\n",
    "\n",
    "    return padded_piano_roll\n",
    "\n",
    "\n",
    "class NotesGenerationDataset(data.Dataset):\n",
    "    \n",
    "    def __init__(self, midi_folder_path, longest_sequence_length=1491):\n",
    "        \n",
    "        self.midi_folder_path = midi_folder_path\n",
    "        \n",
    "        midi_filenames = os.listdir(midi_folder_path)\n",
    "        \n",
    "        self.longest_sequence_length = longest_sequence_length\n",
    "        \n",
    "        midi_full_filenames = map(lambda filename: os.path.join(midi_folder_path, filename),midi_filenames)\n",
    "        \n",
    "        self.midi_full_filenames = list(midi_full_filenames)\n",
    "        \n",
    "        if longest_sequence_length is None:\n",
    "            \n",
    "            self.update_the_max_length()\n",
    "    \n",
    "    \n",
    "    def update_the_max_length(self):\n",
    "        \n",
    "        sequences_lengths = map(lambda filename: midi_filename_to_piano_roll(filename).shape[1],self.midi_full_filenames)\n",
    "        \n",
    "        max_length = max(sequences_lengths)\n",
    "        \n",
    "        self.longest_sequence_length = max_length\n",
    "                \n",
    "    \n",
    "    def __len__(self):\n",
    "        \n",
    "        return len(self.midi_full_filenames)\n",
    "    \n",
    "    def __getitem__(self, index):\n",
    "        \n",
    "        midi_full_filename = self.midi_full_filenames[index]\n",
    "        \n",
    "        piano_roll = midi_filename_to_piano_roll(midi_full_filename)\n",
    "        \n",
    "        # Shifting by one time step\n",
    "        sequence_length = piano_roll.shape[1] - 1\n",
    "        \n",
    "        # Shifting by one time step\n",
    "        input_sequence = piano_roll[:, :-1]\n",
    "        ground_truth_sequence = piano_roll[:, 1:]\n",
    "                \n",
    "        # padding sequence so that all of them have the same length\n",
    "        input_sequence_padded = pad_piano_roll(input_sequence, max_length=self.longest_sequence_length)\n",
    "        \n",
    "        ground_truth_sequence_padded = pad_piano_roll(ground_truth_sequence,max_length=self.longest_sequence_length,pad_value=-100)\n",
    "                \n",
    "        input_sequence_padded = input_sequence_padded.transpose()\n",
    "        ground_truth_sequence_padded = ground_truth_sequence_padded.transpose()\n",
    "        \n",
    "        return (torch.FloatTensor(input_sequence_padded),torch.LongTensor(ground_truth_sequence_padded),torch.LongTensor([sequence_length]) )\n",
    "\n",
    "    \n",
    "def post_process_sequence_batch(batch_tuple):\n",
    "    \n",
    "    input_sequences, output_sequences, lengths = batch_tuple\n",
    "    \n",
    "    splitted_input_sequence_batch = input_sequences.split(split_size=1)\n",
    "    splitted_output_sequence_batch = output_sequences.split(split_size=1)\n",
    "    splitted_lengths_batch = lengths.split(split_size=1)\n",
    "\n",
    "    training_data_tuples = zip(splitted_input_sequence_batch,\n",
    "                               splitted_output_sequence_batch,\n",
    "                               splitted_lengths_batch)\n",
    "\n",
    "    training_data_tuples_sorted = sorted(training_data_tuples,\n",
    "                                         key=lambda p: int(p[2]),\n",
    "                                         reverse=True)\n",
    "\n",
    "    splitted_input_sequence_batch, splitted_output_sequence_batch, splitted_lengths_batch = zip(*training_data_tuples_sorted)\n",
    "\n",
    "    input_sequence_batch_sorted = torch.cat(splitted_input_sequence_batch)\n",
    "    output_sequence_batch_sorted = torch.cat(splitted_output_sequence_batch)\n",
    "    lengths_batch_sorted = torch.cat(splitted_lengths_batch)\n",
    "    \n",
    "    input_sequence_batch_sorted = input_sequence_batch_sorted[:, -lengths_batch_sorted[0, 0]:, :]\n",
    "    output_sequence_batch_sorted = output_sequence_batch_sorted[:, -lengths_batch_sorted[0, 0]:, :]\n",
    "    \n",
    "    input_sequence_batch_transposed = input_sequence_batch_sorted.transpose(0, 1)\n",
    "    \n",
    "    lengths_batch_sorted_list = list(lengths_batch_sorted)\n",
    "    lengths_batch_sorted_list = map(lambda x: int(x), lengths_batch_sorted_list)\n",
    "    \n",
    "    return input_sequence_batch_transposed, output_sequence_batch_sorted, list(lengths_batch_sorted_list)"
   ]
  },
  {
   "cell_type": "code",
   "execution_count": 0,
   "metadata": {
    "colab": {},
    "colab_type": "code",
    "id": "CljW4iI3h4DS"
   },
   "outputs": [],
   "source": [
    "trainset = NotesGenerationDataset(myDrive + 'Nottingham/train', longest_sequence_length=None)\n",
    "trainset_loader = data.DataLoader(trainset, batch_size=8,shuffle=True, drop_last=True)\n",
    "\n",
    "valset = NotesGenerationDataset(myDrive + 'Nottingham/valid', longest_sequence_length=None)\n",
    "valset_loader = data.DataLoader(valset, batch_size=8, shuffle=False, drop_last=False)"
   ]
  },
  {
   "cell_type": "markdown",
   "metadata": {
    "colab_type": "text",
    "id": "indYbuTpiOtx"
   },
   "source": [
    "### RNN definition\n"
   ]
  },
  {
   "cell_type": "code",
   "execution_count": 0,
   "metadata": {
    "colab": {},
    "colab_type": "code",
    "id": "mFOVjjOAiSoU"
   },
   "outputs": [],
   "source": [
    "class RNN(nn.Module):\n",
    "    \n",
    "    def __init__(self, input_size, hidden_size, num_classes, n_layers=2):\n",
    "        \n",
    "        super(RNN, self).__init__()\n",
    "        \n",
    "        self.input_size = input_size\n",
    "        self.hidden_size = hidden_size\n",
    "        self.num_classes = num_classes\n",
    "        self.n_layers = n_layers\n",
    "        \n",
    "        self.notes_encoder = nn.Linear(in_features=input_size, out_features=hidden_size[0])\n",
    "        \n",
    "        self.bn1 = nn.BatchNorm1d(hidden_size[0])\n",
    "\n",
    "        self.gru1= nn.GRU(hidden_size[0], hidden_size[1], n_layers)\n",
    "        self.gru2 = nn.GRU(hidden_size[1], hidden_size[1], n_layers)\n",
    "\n",
    "        self.bn2 = nn.BatchNorm1d(hidden_size[1])\n",
    "\n",
    "        self.logits_fc = nn.Linear(hidden_size[1], num_classes)\n",
    "    \n",
    "        self.criterion = nn.CrossEntropyLoss().cuda()\n",
    "        self.criterion_val = nn.CrossEntropyLoss().cuda()\n",
    "\n",
    "        self.loss_list = []\n",
    "        self.val_list = []\n",
    "        self.optimizer = torch.optim.Adam(self.parameters())\n",
    "\n",
    "    def forward(self, input_sequences, input_sequences_lengths, hidden=None):\n",
    "        batch_size = input_sequences.shape[1]\n",
    "\n",
    "        notes_encoded = self.notes_encoder(input_sequences)\n",
    "        \n",
    "        notes_encoded_rolled = notes_encoded.permute(1,2,0).contiguous()\n",
    "        notes_encoded_norm = self.bn1(notes_encoded_rolled)\n",
    "        \n",
    "        notes_encoded_norm_drop = nn.Dropout(0.25)(notes_encoded_norm)\n",
    "        notes_encoded_complete = notes_encoded_norm_drop.permute(2,0,1)\n",
    "        \n",
    "        # Here we run rnns only on non-padded regions of the batch\n",
    "        packed = torch.nn.utils.rnn.pack_padded_sequence(notes_encoded_complete, input_sequences_lengths)\n",
    "        outputs1, hidden1 = self.gru1(packed, hidden)\n",
    "        outputs2, hidden2 = self.gru2(outputs1, hidden1)\n",
    "        \n",
    "        \n",
    "        # Here we unpack sequence(back to padded)\n",
    "        outputs2, output_lengths = torch.nn.utils.rnn.pad_packed_sequence(outputs2)\n",
    "        \n",
    "        outputs_norm = self.bn2(outputs2.permute(1,2,0).contiguous())\n",
    "        outputs_drop = nn.Dropout(0.1)(outputs_norm)\n",
    "        logits = self.logits_fc(outputs_drop.permute(2,0,1))\n",
    "        logits = logits.transpose(0, 1).contiguous()\n",
    "        \n",
    "        neg_logits = (1 - logits)\n",
    "        \n",
    "        # Since the BCE loss doesn't support masking,crossentropy is used\n",
    "        binary_logits = torch.stack((logits, neg_logits), dim=3).contiguous()\n",
    "        logits_flatten = binary_logits.view(-1, 2)\n",
    "        return logits_flatten, hidden\n",
    "\n",
    "    def validate(self):\n",
    "      self.eval()\n",
    "      full_val_loss = 0.0\n",
    "      overall_sequence_length = 0.0\n",
    "\n",
    "      for batch in valset_loader:\n",
    "\n",
    "          post_processed_batch_tuple = post_process_sequence_batch(batch)\n",
    "\n",
    "          input_sequences_batch, output_sequences_batch, sequences_lengths = post_processed_batch_tuple\n",
    "\n",
    "          output_sequences_batch_var =  Variable( output_sequences_batch.contiguous().view(-1).cuda() )\n",
    "\n",
    "          input_sequences_batch_var = Variable( input_sequences_batch.cuda() )\n",
    "\n",
    "          logits, _ = self(input_sequences_batch_var, sequences_lengths)\n",
    "\n",
    "          loss = self.criterion_val(logits, output_sequences_batch_var)\n",
    "\n",
    "          full_val_loss += loss.item()\n",
    "          overall_sequence_length += sum(sequences_lengths)\n",
    "\n",
    "      return full_val_loss / (overall_sequence_length * 88)\n",
    "\n",
    "    def get_triangular_lr(self, lr_low, lr_high, mini_batches):\n",
    "      iterations = mini_batches\n",
    "      lr_mid = lr_high/7 + lr_low\n",
    "      up = np.linspace(lr_low, lr_high, int(round(iterations*0.35)))\n",
    "      down = np.linspace(lr_high, lr_mid, int(round(iterations*0.35)))\n",
    "      floor = np.linspace(lr_mid, lr_low, int(round(iterations*0.30)))\n",
    "      return np.hstack([up, down[1:], floor])\n",
    "\n",
    "\n",
    "    def train_model(self, lrs_triangular, path, epochs_number=2, wd=0.0, best_val_loss=float(\"inf\") ):\n",
    "      clip = 1.0\n",
    "      self.optimizer = torch.optim.Adam(rnn.parameters(), lr=lrs_triangular[0], weight_decay=wd)\n",
    "      for epoch_number in range(epochs_number):\n",
    "          self.train()\n",
    "          epoch_loss = []\n",
    "          for lr, batch in zip(lrs_triangular, trainset_loader):\n",
    "              self.optimizer.param_groups[0]['lr'] = lr\n",
    "\n",
    "              post_processed_batch_tuple = post_process_sequence_batch(batch)\n",
    "\n",
    "              input_sequences_batch, output_sequences_batch, sequences_lengths = post_processed_batch_tuple\n",
    "\n",
    "              output_sequences_batch_var =  Variable( output_sequences_batch.contiguous().view(-1).cuda() )\n",
    "\n",
    "              input_sequences_batch_var = Variable( input_sequences_batch.cuda() )\n",
    "\n",
    "              self.optimizer.zero_grad()\n",
    "\n",
    "              logits, _ = self(input_sequences_batch_var, sequences_lengths)\n",
    "\n",
    "              loss = self.criterion(logits, output_sequences_batch_var)\n",
    "              epoch_loss.append(loss.item())\n",
    "              loss.backward()\n",
    "\n",
    "              torch.nn.utils.clip_grad_norm_(self.parameters(), clip)\n",
    "\n",
    "              self.optimizer.step()\n",
    "\n",
    "          current_trn_epoch = sum(epoch_loss)/len(trainset_loader)\n",
    "          print('Training Loss: Epoch:',epoch_number,':', current_trn_epoch)\n",
    "          plt.plot(epoch_loss)\n",
    "          plt.show()\n",
    "          current_val_loss = self.validate()\n",
    "\n",
    "          self.loss_list.append(current_trn_epoch)\n",
    "\n",
    "          self.val_list.append(current_val_loss)\n",
    "\n",
    "          print('Validation Loss: Epoch:',epoch_number,':', current_val_loss)\n",
    "          print('')\n",
    "\n",
    "          if epoch_number % 10 == 0:\n",
    "              torch.save(self.state_dict(), myDrive + path + '/music_model_epoch_' + str(epoch_number) + '.pth')\n",
    "\n",
    "          if current_val_loss < best_val_loss:\n",
    "\n",
    "              torch.save(self.state_dict(), myDrive + path + '/music_model_best_loss.pth')\n",
    "              best_val_loss = current_val_loss\n",
    "      \n",
    "      torch.save(self.state_dict(), myDrive + path + '/music_model_epoch_' + str(epochs_number) + '.pth')\n",
    "\n",
    "      return best_val_loss"
   ]
  },
  {
   "cell_type": "code",
   "execution_count": 0,
   "metadata": {
    "colab": {},
    "colab_type": "code",
    "id": "pQh_oDk3mGnL"
   },
   "outputs": [],
   "source": [
    "hidden_sizes = [512, 128]\n",
    "rnn = RNN(input_size=88, hidden_size=hidden_sizes, num_classes=88, n_layers = 1).cuda()\n",
    "#rnn.load_state_dict(torch.load(myDrive+ 'notebooks/models/4_hidden_128/music_model_epoch_1000.pth'))\n",
    "n_epochs = 150\n",
    "weight_decay = 0.0\n",
    "lr_low = 1e-4\n",
    "lr_high = 1e-3  \n",
    "save_path = 'models/GRU_512_128_2-layers'"
   ]
  },
  {
   "cell_type": "code",
   "execution_count": 0,
   "metadata": {
    "colab": {
     "base_uri": "https://localhost:8080/",
     "height": 1000
    },
    "colab_type": "code",
    "executionInfo": {
     "elapsed": 1642957,
     "status": "ok",
     "timestamp": 1592146721386,
     "user": {
      "displayName": "LUCY GABRIELA CRUZ",
      "photoUrl": "",
      "userId": "00458370254081587402"
     },
     "user_tz": -120
    },
    "id": "UwL7Bu2-pP25",
    "outputId": "bc6ef8b5-5ca2-4741-d24b-03acd74115ce"
   },
   "outputs": [],
   "source": [
    "lrs_triangular = rnn.get_triangular_lr(lr_low, lr_high, len(trainset_loader))\n",
    "rnn.train_model(lrs_triangular,save_path,n_epochs, weight_decay )\n"
   ]
  },
  {
   "cell_type": "code",
   "execution_count": 0,
   "metadata": {
    "colab": {
     "base_uri": "https://localhost:8080/",
     "height": 524
    },
    "colab_type": "code",
    "executionInfo": {
     "elapsed": 1642951,
     "status": "ok",
     "timestamp": 1592146721389,
     "user": {
      "displayName": "LUCY GABRIELA CRUZ",
      "photoUrl": "",
      "userId": "00458370254081587402"
     },
     "user_tz": -120
    },
    "id": "icG3zzctvxAu",
    "outputId": "9a043051-9535-46cc-a51a-b3c68c07ef8d"
   },
   "outputs": [
    {
     "data": {
      "image/png": "[encoded data removed]",
      "text/plain": [
       "<Figure size 432x288 with 1 Axes>"
      ]
     },
     "metadata": {
      "needs_background": "light",
      "tags": []
     },
     "output_type": "display_data"
    },
    {
     "data": {
      "image/png": "[encoded data removed]",
      "text/plain": [
       "<Figure size 432x288 with 1 Axes>"
      ]
     },
     "metadata": {
      "needs_background": "light",
      "tags": []
     },
     "output_type": "display_data"
    }
   ],
   "source": [
    "plt.plot(rnn.loss_list)\n",
    "plt.show()\n",
    "plt.plot(rnn.val_list)\n",
    "plt.show()"
   ]
  },
  {
   "cell_type": "markdown",
   "metadata": {
    "colab_type": "text",
    "id": "Aa3ZWCmrw5jt"
   },
   "source": [
    "### Test\n"
   ]
  },
  {
   "cell_type": "code",
   "execution_count": 0,
   "metadata": {
    "colab": {},
    "colab_type": "code",
    "id": "r5w3IPdSw3-Q"
   },
   "outputs": [],
   "source": [
    "def sample_from_piano_rnn(rnn, sample_length=4, temperature=1, starting_sequence=None):\n",
    "    rnn.eval()\n",
    "    if starting_sequence is None:\n",
    "                \n",
    "        current_sequence_input = torch.zeros(1, 1, 88)\n",
    "        current_sequence_input[0, 0, 40] = 1\n",
    "        current_sequence_input[0, 0, 50] = 0\n",
    "        current_sequence_input[0, 0, 56] = 0\n",
    "        current_sequence_input = Variable(current_sequence_input.cuda())\n",
    "    else:\n",
    "        current_sequence_input = starting_sequence\n",
    "        \n",
    "    final_output_sequence = [current_sequence_input.data.squeeze(1)]\n",
    "\n",
    "    hidden = None\n",
    "\n",
    "    for i in range(sample_length):\n",
    "\n",
    "        output, hidden = rnn(current_sequence_input, [1], hidden)\n",
    "\n",
    "        probabilities = nn.functional.softmax(output.div(temperature), dim=1)\n",
    "\n",
    "        current_sequence_input = torch.multinomial(probabilities.data, 1).squeeze().unsqueeze(0).unsqueeze(1)\n",
    "\n",
    "        current_sequence_input = Variable(current_sequence_input.float())\n",
    "\n",
    "        final_output_sequence.append(current_sequence_input.data.squeeze(1))\n",
    "\n",
    "    sampled_sequence = torch.cat(final_output_sequence, dim=0).cpu().numpy()\n",
    "    \n",
    "    return sampled_sequence"
   ]
  },
  {
   "cell_type": "code",
   "execution_count": 0,
   "metadata": {
    "colab": {
     "base_uri": "https://localhost:8080/",
     "height": 34
    },
    "colab_type": "code",
    "executionInfo": {
     "elapsed": 1644125,
     "status": "ok",
     "timestamp": 1592146722585,
     "user": {
      "displayName": "LUCY GABRIELA CRUZ",
      "photoUrl": "",
      "userId": "00458370254081587402"
     },
     "user_tz": -120
    },
    "id": "VtSKgnqlzQVB",
    "outputId": "c931c1e5-5aa8-4ebc-a2fb-ef128802abdc"
   },
   "outputs": [
    {
     "data": {
      "text/plain": [
       "<All keys matched successfully>"
      ]
     },
     "execution_count": 10,
     "metadata": {
      "tags": []
     },
     "output_type": "execute_result"
    }
   ],
   "source": [
    "hidden_sizes = [512, 128]\n",
    "rnn = RNN(input_size = 88, hidden_size = hidden_sizes, num_classes = 88, n_layers = 1).cuda()\n",
    "rnn.load_state_dict(torch.load(myDrive+ 'models/GRU_512_128_2-layers/music_model_epoch_100.pth'))\n",
    "\n"
   ]
  },
  {
   "cell_type": "code",
   "execution_count": 0,
   "metadata": {
    "colab": {
     "base_uri": "https://localhost:8080/",
     "height": 218
    },
    "colab_type": "code",
    "executionInfo": {
     "elapsed": 1644442,
     "status": "ok",
     "timestamp": 1592146722909,
     "user": {
      "displayName": "LUCY GABRIELA CRUZ",
      "photoUrl": "",
      "userId": "00458370254081587402"
     },
     "user_tz": -120
    },
    "id": "_95kjfyxtmaS",
    "outputId": "37b49e51-be92-4302-9ee6-f533151abaf6"
   },
   "outputs": [
    {
     "data": {
      "image/png": "[encoded data removed]",
      "text/plain": [
       "<Figure size 432x288 with 1 Axes>"
      ]
     },
     "metadata": {
      "needs_background": "light",
      "tags": []
     },
     "output_type": "display_data"
    }
   ],
   "source": [
    "sample = sample_from_piano_rnn(rnn, sample_length=200, temperature=0.8,starting_sequence=None).transpose()\n",
    "io.imshow(sample)\n",
    "midiwrite(myDrive + 'sample_2_GRU_512_128.mid', sample.transpose(), dt=0.3)"
   ]
  },
  {
   "cell_type": "markdown",
   "metadata": {
    "colab_type": "text",
    "id": "bXqCyxTZ-9Jd"
   },
   "source": [
    "### Transfer learning\n"
   ]
  },
  {
   "cell_type": "code",
   "execution_count": 0,
   "metadata": {
    "colab": {},
    "colab_type": "code",
    "id": "FJ0Ucpvr_LUP"
   },
   "outputs": [],
   "source": [
    "trainset_transfer = NotesGenerationDataset(myDrive + 'BluesMidiClean/train', longest_sequence_length=None)\n",
    "trainset_loader_transfer = data.DataLoader(trainset, batch_size=1,shuffle=True, drop_last=True)\n",
    "\n",
    "valset_transfer = NotesGenerationDataset(myDrive + 'BluesMidiClean/val', longest_sequence_length=None)\n",
    "valset_loader_transfer = data.DataLoader(valset, batch_size=1, shuffle=False, drop_last=False)"
   ]
  },
  {
   "cell_type": "code",
   "execution_count": 0,
   "metadata": {
    "colab": {},
    "colab_type": "code",
    "id": "GYEWeqEW_QRv"
   },
   "outputs": [],
   "source": [
    "hidden_sizes = [512, 128]\n",
    "rnn = RNN(input_size=88, hidden_size=hidden_sizes, num_classes=88, n_layers = 1).cuda()\n",
    "#rnn = RNN(input_size=88, hidden_size=hidden_sizes, num_classes=88, n_layers = 1)\n",
    "rnn.load_state_dict(torch.load(myDrive+ 'models/GRU_512_128_2-layers/music_model_epoch_100.pth'))\n",
    "n_epochs = 150\n",
    "weight_decay = 0.0\n",
    "lr_low = 1e-6\n",
    "lr_high = 1e-4\n",
    "save_path = 'models/GRU_512_128_2-layers_transfer'"
   ]
  },
  {
   "cell_type": "code",
   "execution_count": 0,
   "metadata": {
    "colab": {},
    "colab_type": "code",
    "id": "y_TiSYXg_Yiv"
   },
   "outputs": [],
   "source": [
    "lrs_triangular = rnn.get_triangular_lr(lr_low, lr_high, len(trainset_loader))\n",
    "rnn.train_model(lrs_triangular,save_path,n_epochs, weight_decay )\n"
   ]
  },
  {
   "cell_type": "code",
   "execution_count": 0,
   "metadata": {
    "colab": {
     "base_uri": "https://localhost:8080/",
     "height": 218
    },
    "colab_type": "code",
    "executionInfo": {
     "elapsed": 1280,
     "status": "ok",
     "timestamp": 1592204426730,
     "user": {
      "displayName": "EvilQueen Games",
      "photoUrl": "https://lh3.googleusercontent.com/a-/AOh14GgVz3zlFCzq7fKQkr0nDbM4UebhBLmPT4JBgB-rRA=s64",
      "userId": "18226975890731264558"
     },
     "user_tz": -120
    },
    "id": "bNumHb6zDUs9",
    "outputId": "8499c06a-e054-4d22-d77b-b02493d0fa97"
   },
   "outputs": [
    {
     "data": {
      "image/png": "[encoded data removed]",
      "text/plain": [
       "<Figure size 432x288 with 1 Axes>"
      ]
     },
     "metadata": {
      "needs_background": "light",
      "tags": []
     },
     "output_type": "display_data"
    }
   ],
   "source": [
    "hidden_sizes = [512, 128]\n",
    "save_path = 'models/GRU_512_128_2-layers_transfer'\n",
    "rnn = RNN(input_size = 88, hidden_size = hidden_sizes, num_classes = 88, n_layers = 1).cuda()\n",
    "#rnn = RNN(input_size=88, hidden_size=hidden_sizes, num_classes=88, n_layers = 1)\n",
    "rnn.load_state_dict(torch.load(myDrive + save_path + '/music_model_epoch_150.pth'))\n",
    "\n",
    "sample = sample_from_piano_rnn(rnn, sample_length=200, temperature=0.8,starting_sequence=None).transpose()\n",
    "io.imshow(sample)\n",
    "midiwrite(myDrive + 'sample_2_GRU_512_128_transfer_0.8temp.mid', sample.transpose(), dt=0.3)"
   ]
  }
 ],
 "metadata": {
  "accelerator": "GPU",
  "colab": {
   "collapsed_sections": [],
   "name": "musicGeneration_GRU.ipynb",
   "provenance": []
  },
  "kernelspec": {
   "display_name": "Python 3",
   "language": "python",
   "name": "python3"
  },
  "language_info": {
   "codemirror_mode": {
    "name": "ipython",
    "version": 3
   },
   "file_extension": ".py",
   "mimetype": "text/x-python",
   "name": "python",
   "nbconvert_exporter": "python",
   "pygments_lexer": "ipython3",
   "version": "3.7.1rc1"
  },
  "varInspector": {
   "cols": {
    "lenName": 16,
    "lenType": 16,
    "lenVar": 40
   },
   "kernels_config": {
    "python": {
     "delete_cmd_postfix": "",
     "delete_cmd_prefix": "del ",
     "library": "var_list.py",
     "varRefreshCmd": "print(var_dic_list())"
    },
    "r": {
     "delete_cmd_postfix": ") ",
     "delete_cmd_prefix": "rm(",
     "library": "var_list.r",
     "varRefreshCmd": "cat(var_dic_list()) "
    }
   },
   "types_to_exclude": [
    "module",
    "function",
    "builtin_function_or_method",
    "instance",
    "_Feature"
   ],
   "window_display": false
  }
 },
 "nbformat": 4,
 "nbformat_minor": 1
}
